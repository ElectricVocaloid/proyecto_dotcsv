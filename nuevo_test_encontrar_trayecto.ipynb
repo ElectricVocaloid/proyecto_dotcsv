{
  "nbformat": 4,
  "nbformat_minor": 0,
  "metadata": {
    "colab": {
      "name": "nuevo test encontrar trayecto.ipynb",
      "provenance": [],
      "collapsed_sections": [],
      "include_colab_link": true
    },
    "kernelspec": {
      "name": "python3",
      "display_name": "Python 3"
    }
  },
  "cells": [
    {
      "cell_type": "markdown",
      "metadata": {
        "id": "view-in-github",
        "colab_type": "text"
      },
      "source": [
        "<a href=\"https://colab.research.google.com/github/sandroormeno/proyecto_dotcsv/blob/master/nuevo_test_encontrar_trayecto.ipynb\" target=\"_parent\"><img src=\"https://colab.research.google.com/assets/colab-badge.svg\" alt=\"Open In Colab\"/></a>"
      ]
    },
    {
      "cell_type": "code",
      "metadata": {
        "id": "QOTZmBTgX-2r",
        "colab_type": "code",
        "colab": {}
      },
      "source": [
        "!pip install -U -q PyDrive\n",
        "from pydrive.auth import GoogleAuth\n",
        "from pydrive.drive import GoogleDrive\n",
        "from google.colab import auth\n",
        "from oauth2client.client import GoogleCredentials"
      ],
      "execution_count": 0,
      "outputs": []
    },
    {
      "cell_type": "code",
      "metadata": {
        "id": "n8qqjnBbZUYR",
        "colab_type": "code",
        "colab": {}
      },
      "source": [
        "auth.authenticate_user()\n",
        "gauth = GoogleAuth()\n",
        "gauth.credentials = GoogleCredentials.get_application_default()\n",
        "drive = GoogleDrive(gauth)"
      ],
      "execution_count": 0,
      "outputs": []
    },
    {
      "cell_type": "code",
      "metadata": {
        "id": "er_wapuOZi6k",
        "colab_type": "code",
        "colab": {}
      },
      "source": [
        "downloaded = drive.CreateFile({'id':'1z08sKsndNtCtVKSaNyLL2eyk_6YVHEKu'})\n",
        "downloaded.GetContentFile('datos.rar') "
      ],
      "execution_count": 0,
      "outputs": []
    },
    {
      "cell_type": "code",
      "metadata": {
        "id": "Gw1lHHFbkXQX",
        "colab_type": "code",
        "colab": {}
      },
      "source": [
        "!unrar x /content/datos.rar"
      ],
      "execution_count": 0,
      "outputs": []
    },
    {
      "cell_type": "code",
      "metadata": {
        "id": "kbvkVkdrb1vd",
        "colab_type": "code",
        "outputId": "0240b5bf-3c87-426f-feda-a0350887a1f7",
        "colab": {
          "base_uri": "https://localhost:8080/",
          "height": 34
        }
      },
      "source": [
        "%tensorflow_version 2.x"
      ],
      "execution_count": 0,
      "outputs": [
        {
          "output_type": "stream",
          "text": [
            "TensorFlow 2.x selected.\n"
          ],
          "name": "stdout"
        }
      ]
    },
    {
      "cell_type": "code",
      "metadata": {
        "id": "qw8nWqjkcFpF",
        "colab_type": "code",
        "colab": {}
      },
      "source": [
        "%matplotlib inline\n",
        "import tensorflow as tf\n",
        "import matplotlib.pyplot as plt\n",
        "import numpy as np\n",
        "import os\n",
        "from tensorflow import keras\n",
        "from numpy import loadtxt\n",
        "from google.colab import files"
      ],
      "execution_count": 0,
      "outputs": []
    },
    {
      "cell_type": "code",
      "metadata": {
        "id": "jO1SHSoRcK4H",
        "colab_type": "code",
        "outputId": "ce6d6661-34c8-445f-b4a2-2f89b3726930",
        "colab": {
          "base_uri": "https://localhost:8080/",
          "height": 34
        }
      },
      "source": [
        "generator =  keras.models.load_model(\"/content/model.h5\")"
      ],
      "execution_count": 0,
      "outputs": [
        {
          "output_type": "stream",
          "text": [
            "WARNING:tensorflow:No training configuration found in save file: the model was *not* compiled. Compile it manually.\n"
          ],
          "name": "stdout"
        }
      ]
    },
    {
      "cell_type": "code",
      "metadata": {
        "id": "M-di2GaWcWyO",
        "colab_type": "code",
        "colab": {}
      },
      "source": [
        "PATHTESST  = \"/content/test2\"\n",
        "testUrls = !ls -1 \"{PATHTESST}\""
      ],
      "execution_count": 0,
      "outputs": []
    },
    {
      "cell_type": "code",
      "metadata": {
        "id": "fVgIWF_CcZgg",
        "colab_type": "code",
        "colab": {}
      },
      "source": [
        "def load(image_file):\n",
        "    image = tf.io.read_file(image_file)\n",
        "    image = tf.image.decode_jpeg(image) \n",
        "    image = tf.cast(image, tf.float32)\n",
        "    input_image =  (image / 127.5)-1\n",
        "    return input_image"
      ],
      "execution_count": 0,
      "outputs": []
    },
    {
      "cell_type": "code",
      "metadata": {
        "id": "WfzbBdiucbvW",
        "colab_type": "code",
        "colab": {}
      },
      "source": [
        "for i in testUrls:\n",
        "    imagen = load(PATHTESST +\"/\"+i)\n",
        "    ima_in = (imagen+1)/2   \n",
        "    if np.random.random_sample(1)[0] > 0.5: \n",
        "        ima_in = tf.image.rot90(ima_in, 2)\n",
        "    else:  \n",
        "        ima_in = tf.image.rot90(ima_in, 1)\n",
        "    if np.random.random_sample(1)[0] > 0.5:\n",
        "        ima_in = tf.image.flip_up_down(ima_in) \n",
        "    else:\n",
        "        ima_in =tf.image.flip_left_right(ima_in)  \n",
        "    gen = generator(ima_in[tf.newaxis,...], training=True)\n",
        "    salida = (gen[0,...]+1)/2\n",
        "    display_list = [ima_in, salida]\n",
        "    title = ['Imagen de entrada','Predicción']\n",
        "    \n",
        "    for u in range(2):    \n",
        "        plt.subplot(1, 2, u+1)\n",
        "        plt.title(title[u])\n",
        "        plt.imshow(display_list[u])\n",
        "        plt.axis('off')\n",
        "    plt.show()"
      ],
      "execution_count": 0,
      "outputs": []
    },
    {
      "cell_type": "markdown",
      "metadata": {
        "id": "c7MHkJI_qsE_",
        "colab_type": "text"
      },
      "source": [
        "I leave three new images for testing:  \n",
        "\n",
        "![texto alternativo](https://raw.githubusercontent.com/sandroormeno/proyecto_dotcsv/master/new_labyrinths/lab%20103.jpg)\n",
        "![texto alternativo](https://raw.githubusercontent.com/sandroormeno/proyecto_dotcsv/master/new_labyrinths/lab%2083.jpg)\n",
        "![texto alternativo](https://raw.githubusercontent.com/sandroormeno/proyecto_dotcsv/master/new_labyrinths/lab%2093.jpg)\n",
        "\n"
      ]
    },
    {
      "cell_type": "code",
      "metadata": {
        "id": "DdZrrdp2lfD1",
        "colab_type": "code",
        "colab": {}
      },
      "source": [
        "uploaded = files.upload()"
      ],
      "execution_count": 0,
      "outputs": []
    },
    {
      "cell_type": "code",
      "metadata": {
        "id": "xDO4o6K5ltO8",
        "colab_type": "code",
        "colab": {}
      },
      "source": [
        "imagen = load('lab 93 ini.jpg')\n",
        "suerte = generator(imagen[tf.newaxis,...], training=True)\n",
        "salida = (suerte[0,...]+1)/2\n",
        "display_list = [imagen, salida]\n",
        "title = ['Imagen de entrada','Predicción']\n",
        "for u in range(2):    \n",
        "  plt.subplot(1, 2, u+1)\n",
        "  plt.title(title[u])\n",
        "  plt.imshow(display_list[u])\n",
        "  plt.axis('off')\n",
        "plt.show()"
      ],
      "execution_count": 0,
      "outputs": []
    }
  ]
}